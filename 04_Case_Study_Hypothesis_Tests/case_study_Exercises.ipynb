{
 "cells": [
  {
   "cell_type": "markdown",
   "metadata": {},
   "source": [
    "## Import libraries + load the data"
   ]
  },
  {
   "cell_type": "code",
   "execution_count": 116,
   "metadata": {},
   "outputs": [],
   "source": [
    "import pandas as pd\n",
    "import scipy.stats as stats\n",
    "from statsmodels.stats import proportion as proptests\n",
    "import numpy as np"
   ]
  },
  {
   "cell_type": "code",
   "execution_count": 117,
   "metadata": {},
   "outputs": [],
   "source": [
    "df = pd.read_csv(\"homepage-experiment-data.csv\")"
   ]
  },
  {
   "cell_type": "markdown",
   "metadata": {},
   "source": [
    "## Check the data"
   ]
  },
  {
   "cell_type": "code",
   "execution_count": 118,
   "metadata": {},
   "outputs": [
    {
     "data": {
      "text/html": [
       "<div>\n",
       "<style scoped>\n",
       "    .dataframe tbody tr th:only-of-type {\n",
       "        vertical-align: middle;\n",
       "    }\n",
       "\n",
       "    .dataframe tbody tr th {\n",
       "        vertical-align: top;\n",
       "    }\n",
       "\n",
       "    .dataframe thead th {\n",
       "        text-align: right;\n",
       "    }\n",
       "</style>\n",
       "<table border=\"1\" class=\"dataframe\">\n",
       "  <thead>\n",
       "    <tr style=\"text-align: right;\">\n",
       "      <th></th>\n",
       "      <th>Day</th>\n",
       "      <th>Control Cookies</th>\n",
       "      <th>Control Downloads</th>\n",
       "      <th>Control Licenses</th>\n",
       "      <th>Experiment Cookies</th>\n",
       "      <th>Experiment Downloads</th>\n",
       "      <th>Experiment Licenses</th>\n",
       "    </tr>\n",
       "  </thead>\n",
       "  <tbody>\n",
       "    <tr>\n",
       "      <th>0</th>\n",
       "      <td>1</td>\n",
       "      <td>1764</td>\n",
       "      <td>246</td>\n",
       "      <td>1</td>\n",
       "      <td>1850</td>\n",
       "      <td>339</td>\n",
       "      <td>3</td>\n",
       "    </tr>\n",
       "    <tr>\n",
       "      <th>1</th>\n",
       "      <td>2</td>\n",
       "      <td>1541</td>\n",
       "      <td>234</td>\n",
       "      <td>2</td>\n",
       "      <td>1590</td>\n",
       "      <td>281</td>\n",
       "      <td>2</td>\n",
       "    </tr>\n",
       "    <tr>\n",
       "      <th>2</th>\n",
       "      <td>3</td>\n",
       "      <td>1457</td>\n",
       "      <td>240</td>\n",
       "      <td>1</td>\n",
       "      <td>1515</td>\n",
       "      <td>274</td>\n",
       "      <td>1</td>\n",
       "    </tr>\n",
       "    <tr>\n",
       "      <th>3</th>\n",
       "      <td>4</td>\n",
       "      <td>1587</td>\n",
       "      <td>224</td>\n",
       "      <td>1</td>\n",
       "      <td>1541</td>\n",
       "      <td>284</td>\n",
       "      <td>2</td>\n",
       "    </tr>\n",
       "    <tr>\n",
       "      <th>4</th>\n",
       "      <td>5</td>\n",
       "      <td>1606</td>\n",
       "      <td>253</td>\n",
       "      <td>2</td>\n",
       "      <td>1643</td>\n",
       "      <td>292</td>\n",
       "      <td>3</td>\n",
       "    </tr>\n",
       "  </tbody>\n",
       "</table>\n",
       "</div>"
      ],
      "text/plain": [
       "   Day  Control Cookies  Control Downloads  Control Licenses  \\\n",
       "0    1             1764                246                 1   \n",
       "1    2             1541                234                 2   \n",
       "2    3             1457                240                 1   \n",
       "3    4             1587                224                 1   \n",
       "4    5             1606                253                 2   \n",
       "\n",
       "   Experiment Cookies  Experiment Downloads  Experiment Licenses  \n",
       "0                1850                   339                    3  \n",
       "1                1590                   281                    2  \n",
       "2                1515                   274                    1  \n",
       "3                1541                   284                    2  \n",
       "4                1643                   292                    3  "
      ]
     },
     "execution_count": 118,
     "metadata": {},
     "output_type": "execute_result"
    }
   ],
   "source": [
    "df.head()"
   ]
  },
  {
   "cell_type": "code",
   "execution_count": 119,
   "metadata": {},
   "outputs": [
    {
     "data": {
      "text/html": [
       "<div>\n",
       "<style scoped>\n",
       "    .dataframe tbody tr th:only-of-type {\n",
       "        vertical-align: middle;\n",
       "    }\n",
       "\n",
       "    .dataframe tbody tr th {\n",
       "        vertical-align: top;\n",
       "    }\n",
       "\n",
       "    .dataframe thead th {\n",
       "        text-align: right;\n",
       "    }\n",
       "</style>\n",
       "<table border=\"1\" class=\"dataframe\">\n",
       "  <thead>\n",
       "    <tr style=\"text-align: right;\">\n",
       "      <th></th>\n",
       "      <th>Day</th>\n",
       "      <th>Control Cookies</th>\n",
       "      <th>Control Downloads</th>\n",
       "      <th>Control Licenses</th>\n",
       "      <th>Experiment Cookies</th>\n",
       "      <th>Experiment Downloads</th>\n",
       "      <th>Experiment Licenses</th>\n",
       "    </tr>\n",
       "  </thead>\n",
       "  <tbody>\n",
       "    <tr>\n",
       "      <th>count</th>\n",
       "      <td>29.000000</td>\n",
       "      <td>29.000000</td>\n",
       "      <td>29.000000</td>\n",
       "      <td>29.000000</td>\n",
       "      <td>29.00000</td>\n",
       "      <td>29.000000</td>\n",
       "      <td>29.000000</td>\n",
       "    </tr>\n",
       "    <tr>\n",
       "      <th>mean</th>\n",
       "      <td>15.000000</td>\n",
       "      <td>1615.551724</td>\n",
       "      <td>260.482759</td>\n",
       "      <td>24.482759</td>\n",
       "      <td>1632.62069</td>\n",
       "      <td>294.758621</td>\n",
       "      <td>25.241379</td>\n",
       "    </tr>\n",
       "    <tr>\n",
       "      <th>std</th>\n",
       "      <td>8.514693</td>\n",
       "      <td>116.308268</td>\n",
       "      <td>28.338037</td>\n",
       "      <td>13.873461</td>\n",
       "      <td>113.02636</td>\n",
       "      <td>22.404807</td>\n",
       "      <td>13.762410</td>\n",
       "    </tr>\n",
       "    <tr>\n",
       "      <th>min</th>\n",
       "      <td>1.000000</td>\n",
       "      <td>1457.000000</td>\n",
       "      <td>223.000000</td>\n",
       "      <td>1.000000</td>\n",
       "      <td>1458.00000</td>\n",
       "      <td>256.000000</td>\n",
       "      <td>1.000000</td>\n",
       "    </tr>\n",
       "    <tr>\n",
       "      <th>25%</th>\n",
       "      <td>8.000000</td>\n",
       "      <td>1529.000000</td>\n",
       "      <td>240.000000</td>\n",
       "      <td>12.000000</td>\n",
       "      <td>1555.00000</td>\n",
       "      <td>279.000000</td>\n",
       "      <td>20.000000</td>\n",
       "    </tr>\n",
       "    <tr>\n",
       "      <th>50%</th>\n",
       "      <td>15.000000</td>\n",
       "      <td>1602.000000</td>\n",
       "      <td>254.000000</td>\n",
       "      <td>30.000000</td>\n",
       "      <td>1606.00000</td>\n",
       "      <td>290.000000</td>\n",
       "      <td>29.000000</td>\n",
       "    </tr>\n",
       "    <tr>\n",
       "      <th>75%</th>\n",
       "      <td>22.000000</td>\n",
       "      <td>1700.000000</td>\n",
       "      <td>276.000000</td>\n",
       "      <td>34.000000</td>\n",
       "      <td>1728.00000</td>\n",
       "      <td>300.000000</td>\n",
       "      <td>36.000000</td>\n",
       "    </tr>\n",
       "    <tr>\n",
       "      <th>max</th>\n",
       "      <td>29.000000</td>\n",
       "      <td>1822.000000</td>\n",
       "      <td>331.000000</td>\n",
       "      <td>42.000000</td>\n",
       "      <td>1861.00000</td>\n",
       "      <td>349.000000</td>\n",
       "      <td>44.000000</td>\n",
       "    </tr>\n",
       "  </tbody>\n",
       "</table>\n",
       "</div>"
      ],
      "text/plain": [
       "             Day  Control Cookies  Control Downloads  Control Licenses  \\\n",
       "count  29.000000        29.000000          29.000000         29.000000   \n",
       "mean   15.000000      1615.551724         260.482759         24.482759   \n",
       "std     8.514693       116.308268          28.338037         13.873461   \n",
       "min     1.000000      1457.000000         223.000000          1.000000   \n",
       "25%     8.000000      1529.000000         240.000000         12.000000   \n",
       "50%    15.000000      1602.000000         254.000000         30.000000   \n",
       "75%    22.000000      1700.000000         276.000000         34.000000   \n",
       "max    29.000000      1822.000000         331.000000         42.000000   \n",
       "\n",
       "       Experiment Cookies  Experiment Downloads  Experiment Licenses  \n",
       "count            29.00000             29.000000            29.000000  \n",
       "mean           1632.62069            294.758621            25.241379  \n",
       "std             113.02636             22.404807            13.762410  \n",
       "min            1458.00000            256.000000             1.000000  \n",
       "25%            1555.00000            279.000000            20.000000  \n",
       "50%            1606.00000            290.000000            29.000000  \n",
       "75%            1728.00000            300.000000            36.000000  \n",
       "max            1861.00000            349.000000            44.000000  "
      ]
     },
     "execution_count": 119,
     "metadata": {},
     "output_type": "execute_result"
    }
   ],
   "source": [
    "df.describe()"
   ]
  },
  {
   "cell_type": "code",
   "execution_count": 120,
   "metadata": {},
   "outputs": [],
   "source": [
    "n_obs = (df[\"Control Cookies\"] + df[\"Experiment Cookies\"]).sum()\n",
    "n_control = df[\"Control Cookies\"].sum()"
   ]
  },
  {
   "cell_type": "code",
   "execution_count": 121,
   "metadata": {},
   "outputs": [
    {
     "data": {
      "text/plain": [
       "np.int64(46851)"
      ]
     },
     "execution_count": 121,
     "metadata": {},
     "output_type": "execute_result"
    }
   ],
   "source": [
    "n_control"
   ]
  },
  {
   "cell_type": "code",
   "execution_count": 122,
   "metadata": {},
   "outputs": [],
   "source": [
    "p = 0.5\n",
    "sd = np.sqrt(p*(1-p) * n_obs)\n",
    "z_score = ((n_control + 0.5) - p * n_obs) / sd\n",
    "p_values = 2 * stats.norm.cdf(z_score)"
   ]
  },
  {
   "cell_type": "code",
   "execution_count": 123,
   "metadata": {},
   "outputs": [
    {
     "data": {
      "text/plain": [
       "np.float64(0.1074929405013041)"
      ]
     },
     "execution_count": 123,
     "metadata": {},
     "output_type": "execute_result"
    }
   ],
   "source": [
    "p_values"
   ]
  },
  {
   "cell_type": "markdown",
   "metadata": {},
   "source": [
    "## Check the evaluation metric"
   ]
  },
  {
   "cell_type": "markdown",
   "metadata": {},
   "source": [
    "Download Rate"
   ]
  },
  {
   "cell_type": "code",
   "execution_count": 124,
   "metadata": {},
   "outputs": [],
   "source": [
    "df_test = df.copy() "
   ]
  },
  {
   "cell_type": "code",
   "execution_count": 125,
   "metadata": {},
   "outputs": [
    {
     "name": "stdout",
     "output_type": "stream",
     "text": [
      "Control obs: 46851\n",
      "Exper. obs: 47346\n",
      "Total obs: 81189\n"
     ]
    }
   ],
   "source": [
    "n_control_cnt = df_test[\"Control Cookies\"].sum()\n",
    "n_exper_cnt = df_test[\"Experiment Cookies\"].sum()\n",
    "n_obs_cnt = n_control + n_exper\n",
    "\n",
    "print(f\"Control obs: {n_control_cnt}\")\n",
    "print(f\"Exper. obs: {n_exper_cnt}\")\n",
    "print(f\"Total obs: {n_obs_cnt}\")"
   ]
  },
  {
   "cell_type": "code",
   "execution_count": 126,
   "metadata": {},
   "outputs": [
    {
     "name": "stdout",
     "output_type": "stream",
     "text": [
      "Control downloads: 7554\n",
      "Exper. downloads: 8548\n",
      "Total downloads: 16102\n"
     ]
    }
   ],
   "source": [
    "n_control_downloads = df['Control Downloads'].sum()\n",
    "n_experiment_downloads = df['Experiment Downloads'].sum()\n",
    "n_total_downloads = n_control_downloads + n_experiment_downloads\n",
    "\n",
    "print(f\"Control downloads: {n_control_downloads}\")\n",
    "print(f\"Exper. downloads: {n_experiment_downloads}\")\n",
    "print(f\"Total downloads: {n_total_downloads}\")"
   ]
  },
  {
   "cell_type": "code",
   "execution_count": 127,
   "metadata": {},
   "outputs": [
    {
     "name": "stdout",
     "output_type": "stream",
     "text": [
      "Control downloads rate: 0.16123455209067042\n",
      "Exper. downloads rate: 0.180543234908968\n",
      "Total downloads rate: 0.1709396265273841\n"
     ]
    }
   ],
   "source": [
    "p_control_downloads = n_control_downloads / n_control_cnt\n",
    "p_exper_downloads = n_experiment_downloads / n_exper_cnt\n",
    "p_total_downloads = (n_control_downloads + n_experiment_downloads) / (n_control_cnt + n_exper_cnt)\n",
    "\n",
    "print(f\"Control downloads rate: {p_control_downloads}\")\n",
    "print(f\"Exper. downloads rate: {p_exper_downloads}\")\n",
    "print(f\"Total downloads rate: {p_total_downloads}\")"
   ]
  },
  {
   "cell_type": "code",
   "execution_count": 128,
   "metadata": {},
   "outputs": [
    {
     "name": "stdout",
     "output_type": "stream",
     "text": [
      "Standard Error: 0.0024531940948456393\n",
      "Z-Score: 7.870833726066236\n",
      "p value:  1.7763568394002505e-15\n"
     ]
    }
   ],
   "source": [
    "#calc SE\n",
    "se_p = np.sqrt(p_total_downloads * (1-p_total_downloads) * (1 / n_control_cnt + 1 / n_exper_cnt))\n",
    "\n",
    "#calc z score\n",
    "z_score = (p_exper_downloads - p_control_downloads) / se_p\n",
    "\n",
    "print(f\"Standard Error: {se_p}\")\n",
    "print(f\"Z-Score: {z_score}\")\n",
    "print('p value: ', 1 - stats.norm.cdf(z_score))"
   ]
  },
  {
   "cell_type": "markdown",
   "metadata": {},
   "source": [
    "Licence"
   ]
  },
  {
   "cell_type": "code",
   "execution_count": 129,
   "metadata": {},
   "outputs": [
    {
     "name": "stdout",
     "output_type": "stream",
     "text": [
      "n_control: 33758\n",
      "n_experiment: 34338\n",
      "n_total: 68096\n"
     ]
    }
   ],
   "source": [
    "df_licences = df[df[\"Day\"]<22]\n",
    "\n",
    "n_control = df_licences[\"Control Cookies\"].sum()\n",
    "n_exper = df_licences[\"Experiment Cookies\"].sum()\n",
    "\n",
    "n_total = n_control + n_exper\n",
    "\n",
    "print(f\"n_control: {n_control}\")\n",
    "print(f\"n_experiment: {n_exper}\")\n",
    "print(f\"n_total: {n_total}\")"
   ]
  },
  {
   "cell_type": "code",
   "execution_count": 130,
   "metadata": {},
   "outputs": [
    {
     "name": "stdout",
     "output_type": "stream",
     "text": [
      "Control Licences: 443\n",
      "Exper. Licences: 456\n",
      "Total Licences: 899\n"
     ]
    }
   ],
   "source": [
    "n_control_licences = df_licences['Control Licenses'].sum()\n",
    "n_experiment_licences = df_licences['Experiment Licenses'].sum()\n",
    "n_total_licences = n_control_licences + n_experiment_licences\n",
    "\n",
    "print(f\"Control Licences: {n_control_licences}\")\n",
    "print(f\"Exper. Licences: {n_experiment_licences}\")\n",
    "print(f\"Total Licences: {n_total_licences}\")"
   ]
  },
  {
   "cell_type": "code",
   "execution_count": 131,
   "metadata": {},
   "outputs": [
    {
     "name": "stdout",
     "output_type": "stream",
     "text": [
      "Control downloads rate: 0.013122815332661887\n",
      "Exper. downloads rate: 0.013279748383714835\n",
      "Total downloads rate: 0.013201950187969925\n"
     ]
    }
   ],
   "source": [
    "p_control_licences = n_control_licences / n_control\n",
    "p_exper_licences = n_experiment_licences / n_exper\n",
    "p_total_licences = (n_control_licences + n_experiment_licences) / (n_control + n_exper)\n",
    "\n",
    "print(f\"Control downloads rate: {p_control_licences}\")\n",
    "print(f\"Exper. downloads rate: {p_exper_licences}\")\n",
    "print(f\"Total downloads rate: {p_total_licences}\")"
   ]
  },
  {
   "cell_type": "code",
   "execution_count": 114,
   "metadata": {},
   "outputs": [
    {
     "name": "stdout",
     "output_type": "stream",
     "text": [
      "z-score: 0.17938919612010049\n",
      "p-value from z-score: 0.4288160570177023\n"
     ]
    }
   ],
   "source": [
    "se_p = np.sqrt(p_total_licences * (1-p_total_licences) * (1/n_control + 1/n_exper))\n",
    "z_score = (p_exper_licences - p_control_licences) / se_p\n",
    "\n",
    "p_val = 1- stats.norm.cdf(z_score)\n",
    "\n",
    "print(\"z-score: {z}\".format(z=z_score))\n",
    "print(\"p-value from z-score: {p}\".format(p=p_val))"
   ]
  },
  {
   "cell_type": "code",
   "execution_count": null,
   "metadata": {},
   "outputs": [],
   "source": []
  },
  {
   "cell_type": "code",
   "execution_count": null,
   "metadata": {},
   "outputs": [],
   "source": []
  }
 ],
 "metadata": {
  "kernelspec": {
   "display_name": ".venv",
   "language": "python",
   "name": "python3"
  },
  "language_info": {
   "codemirror_mode": {
    "name": "ipython",
    "version": 3
   },
   "file_extension": ".py",
   "mimetype": "text/x-python",
   "name": "python",
   "nbconvert_exporter": "python",
   "pygments_lexer": "ipython3",
   "version": "3.12.2"
  }
 },
 "nbformat": 4,
 "nbformat_minor": 2
}
