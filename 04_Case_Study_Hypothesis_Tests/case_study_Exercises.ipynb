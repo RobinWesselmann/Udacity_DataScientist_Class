{
 "cells": [
  {
   "cell_type": "markdown",
   "metadata": {},
   "source": [
    "# Case Study A/B Testing "
   ]
  },
  {
   "cell_type": "markdown",
   "metadata": {},
   "source": [
    "<img src=\"./img/head_img.jpg\" style=\"width:50%;height=50%\"/>\n",
    "\n",
    "The present case study is a part of the Nano-degree program of Udacity. \n",
    "Within this case study, the goal is to revise the structure of a homepage of a company in order to increase the number of people that download the software of this mentioned company as well as ultimately increase the number of licences purchased. \n",
    " \n",
    "The company's Website has five main sections: \n",
    "1. the homepage; \n",
    "2. a section with additional information. gallery, and examples; \n",
    "3. a page for users to download the software; \n",
    "4. a page for users to purchase a license; and \n",
    "5. a support subsite with documentation and FAQs software; \n",
    "\n",
    "For the software itself, the Website requires that users create an account in order to download the software program. The program is usable freely for seven days after download.\n",
    "When the trial period is hit, the program will bring up dialog box that takes the \n",
    "user to the license page. After purchasing a license, the user will receive a unique Code associated with their Site account. This Code can then be used with the program to register it with that user, and the program can be used thereafter without issue. \n",
    "\n",
    "The goal is to leverage A/B Testing to check if the download rate and the licence purchase could be raised through revising the structure of the homepage.\n",
    "\n",
    "Concretly we:\n",
    "* Explore the data\n",
    "* Execute A/B Testing on the data to check if the homepage structure has a significant influence on the above mentioned mesasures\n",
    "\n"
   ]
  },
  {
   "cell_type": "markdown",
   "metadata": {},
   "source": [
    "## Import libraries + load the data"
   ]
  },
  {
   "cell_type": "markdown",
   "metadata": {},
   "source": [
    "Import the relevant libraries to make a Hypothesis Test as well as load the data"
   ]
  },
  {
   "cell_type": "code",
   "execution_count": 23,
   "metadata": {},
   "outputs": [],
   "source": [
    "import pandas as pd\n",
    "import scipy.stats as stats\n",
    "from statsmodels.stats import proportion as proptests\n",
    "import numpy as np"
   ]
  },
  {
   "cell_type": "code",
   "execution_count": 24,
   "metadata": {},
   "outputs": [],
   "source": [
    "df = pd.read_csv(\"homepage-experiment-data.csv\")"
   ]
  },
  {
   "cell_type": "markdown",
   "metadata": {},
   "source": [
    "## Check the data"
   ]
  },
  {
   "cell_type": "code",
   "execution_count": 25,
   "metadata": {},
   "outputs": [
    {
     "data": {
      "text/html": [
       "<div>\n",
       "<style scoped>\n",
       "    .dataframe tbody tr th:only-of-type {\n",
       "        vertical-align: middle;\n",
       "    }\n",
       "\n",
       "    .dataframe tbody tr th {\n",
       "        vertical-align: top;\n",
       "    }\n",
       "\n",
       "    .dataframe thead th {\n",
       "        text-align: right;\n",
       "    }\n",
       "</style>\n",
       "<table border=\"1\" class=\"dataframe\">\n",
       "  <thead>\n",
       "    <tr style=\"text-align: right;\">\n",
       "      <th></th>\n",
       "      <th>Day</th>\n",
       "      <th>Control Cookies</th>\n",
       "      <th>Control Downloads</th>\n",
       "      <th>Control Licenses</th>\n",
       "      <th>Experiment Cookies</th>\n",
       "      <th>Experiment Downloads</th>\n",
       "      <th>Experiment Licenses</th>\n",
       "    </tr>\n",
       "  </thead>\n",
       "  <tbody>\n",
       "    <tr>\n",
       "      <th>0</th>\n",
       "      <td>1</td>\n",
       "      <td>1764</td>\n",
       "      <td>246</td>\n",
       "      <td>1</td>\n",
       "      <td>1850</td>\n",
       "      <td>339</td>\n",
       "      <td>3</td>\n",
       "    </tr>\n",
       "    <tr>\n",
       "      <th>1</th>\n",
       "      <td>2</td>\n",
       "      <td>1541</td>\n",
       "      <td>234</td>\n",
       "      <td>2</td>\n",
       "      <td>1590</td>\n",
       "      <td>281</td>\n",
       "      <td>2</td>\n",
       "    </tr>\n",
       "    <tr>\n",
       "      <th>2</th>\n",
       "      <td>3</td>\n",
       "      <td>1457</td>\n",
       "      <td>240</td>\n",
       "      <td>1</td>\n",
       "      <td>1515</td>\n",
       "      <td>274</td>\n",
       "      <td>1</td>\n",
       "    </tr>\n",
       "    <tr>\n",
       "      <th>3</th>\n",
       "      <td>4</td>\n",
       "      <td>1587</td>\n",
       "      <td>224</td>\n",
       "      <td>1</td>\n",
       "      <td>1541</td>\n",
       "      <td>284</td>\n",
       "      <td>2</td>\n",
       "    </tr>\n",
       "    <tr>\n",
       "      <th>4</th>\n",
       "      <td>5</td>\n",
       "      <td>1606</td>\n",
       "      <td>253</td>\n",
       "      <td>2</td>\n",
       "      <td>1643</td>\n",
       "      <td>292</td>\n",
       "      <td>3</td>\n",
       "    </tr>\n",
       "  </tbody>\n",
       "</table>\n",
       "</div>"
      ],
      "text/plain": [
       "   Day  Control Cookies  Control Downloads  Control Licenses  \\\n",
       "0    1             1764                246                 1   \n",
       "1    2             1541                234                 2   \n",
       "2    3             1457                240                 1   \n",
       "3    4             1587                224                 1   \n",
       "4    5             1606                253                 2   \n",
       "\n",
       "   Experiment Cookies  Experiment Downloads  Experiment Licenses  \n",
       "0                1850                   339                    3  \n",
       "1                1590                   281                    2  \n",
       "2                1515                   274                    1  \n",
       "3                1541                   284                    2  \n",
       "4                1643                   292                    3  "
      ]
     },
     "execution_count": 25,
     "metadata": {},
     "output_type": "execute_result"
    }
   ],
   "source": [
    "df.head()"
   ]
  },
  {
   "cell_type": "code",
   "execution_count": 26,
   "metadata": {},
   "outputs": [
    {
     "data": {
      "text/html": [
       "<div>\n",
       "<style scoped>\n",
       "    .dataframe tbody tr th:only-of-type {\n",
       "        vertical-align: middle;\n",
       "    }\n",
       "\n",
       "    .dataframe tbody tr th {\n",
       "        vertical-align: top;\n",
       "    }\n",
       "\n",
       "    .dataframe thead th {\n",
       "        text-align: right;\n",
       "    }\n",
       "</style>\n",
       "<table border=\"1\" class=\"dataframe\">\n",
       "  <thead>\n",
       "    <tr style=\"text-align: right;\">\n",
       "      <th></th>\n",
       "      <th>Day</th>\n",
       "      <th>Control Cookies</th>\n",
       "      <th>Control Downloads</th>\n",
       "      <th>Control Licenses</th>\n",
       "      <th>Experiment Cookies</th>\n",
       "      <th>Experiment Downloads</th>\n",
       "      <th>Experiment Licenses</th>\n",
       "    </tr>\n",
       "  </thead>\n",
       "  <tbody>\n",
       "    <tr>\n",
       "      <th>count</th>\n",
       "      <td>29.000000</td>\n",
       "      <td>29.000000</td>\n",
       "      <td>29.000000</td>\n",
       "      <td>29.000000</td>\n",
       "      <td>29.00000</td>\n",
       "      <td>29.000000</td>\n",
       "      <td>29.000000</td>\n",
       "    </tr>\n",
       "    <tr>\n",
       "      <th>mean</th>\n",
       "      <td>15.000000</td>\n",
       "      <td>1615.551724</td>\n",
       "      <td>260.482759</td>\n",
       "      <td>24.482759</td>\n",
       "      <td>1632.62069</td>\n",
       "      <td>294.758621</td>\n",
       "      <td>25.241379</td>\n",
       "    </tr>\n",
       "    <tr>\n",
       "      <th>std</th>\n",
       "      <td>8.514693</td>\n",
       "      <td>116.308268</td>\n",
       "      <td>28.338037</td>\n",
       "      <td>13.873461</td>\n",
       "      <td>113.02636</td>\n",
       "      <td>22.404807</td>\n",
       "      <td>13.762410</td>\n",
       "    </tr>\n",
       "    <tr>\n",
       "      <th>min</th>\n",
       "      <td>1.000000</td>\n",
       "      <td>1457.000000</td>\n",
       "      <td>223.000000</td>\n",
       "      <td>1.000000</td>\n",
       "      <td>1458.00000</td>\n",
       "      <td>256.000000</td>\n",
       "      <td>1.000000</td>\n",
       "    </tr>\n",
       "    <tr>\n",
       "      <th>25%</th>\n",
       "      <td>8.000000</td>\n",
       "      <td>1529.000000</td>\n",
       "      <td>240.000000</td>\n",
       "      <td>12.000000</td>\n",
       "      <td>1555.00000</td>\n",
       "      <td>279.000000</td>\n",
       "      <td>20.000000</td>\n",
       "    </tr>\n",
       "    <tr>\n",
       "      <th>50%</th>\n",
       "      <td>15.000000</td>\n",
       "      <td>1602.000000</td>\n",
       "      <td>254.000000</td>\n",
       "      <td>30.000000</td>\n",
       "      <td>1606.00000</td>\n",
       "      <td>290.000000</td>\n",
       "      <td>29.000000</td>\n",
       "    </tr>\n",
       "    <tr>\n",
       "      <th>75%</th>\n",
       "      <td>22.000000</td>\n",
       "      <td>1700.000000</td>\n",
       "      <td>276.000000</td>\n",
       "      <td>34.000000</td>\n",
       "      <td>1728.00000</td>\n",
       "      <td>300.000000</td>\n",
       "      <td>36.000000</td>\n",
       "    </tr>\n",
       "    <tr>\n",
       "      <th>max</th>\n",
       "      <td>29.000000</td>\n",
       "      <td>1822.000000</td>\n",
       "      <td>331.000000</td>\n",
       "      <td>42.000000</td>\n",
       "      <td>1861.00000</td>\n",
       "      <td>349.000000</td>\n",
       "      <td>44.000000</td>\n",
       "    </tr>\n",
       "  </tbody>\n",
       "</table>\n",
       "</div>"
      ],
      "text/plain": [
       "             Day  Control Cookies  Control Downloads  Control Licenses  \\\n",
       "count  29.000000        29.000000          29.000000         29.000000   \n",
       "mean   15.000000      1615.551724         260.482759         24.482759   \n",
       "std     8.514693       116.308268          28.338037         13.873461   \n",
       "min     1.000000      1457.000000         223.000000          1.000000   \n",
       "25%     8.000000      1529.000000         240.000000         12.000000   \n",
       "50%    15.000000      1602.000000         254.000000         30.000000   \n",
       "75%    22.000000      1700.000000         276.000000         34.000000   \n",
       "max    29.000000      1822.000000         331.000000         42.000000   \n",
       "\n",
       "       Experiment Cookies  Experiment Downloads  Experiment Licenses  \n",
       "count            29.00000             29.000000            29.000000  \n",
       "mean           1632.62069            294.758621            25.241379  \n",
       "std             113.02636             22.404807            13.762410  \n",
       "min            1458.00000            256.000000             1.000000  \n",
       "25%            1555.00000            279.000000            20.000000  \n",
       "50%            1606.00000            290.000000            29.000000  \n",
       "75%            1728.00000            300.000000            36.000000  \n",
       "max            1861.00000            349.000000            44.000000  "
      ]
     },
     "execution_count": 26,
     "metadata": {},
     "output_type": "execute_result"
    }
   ],
   "source": [
    "df.describe()"
   ]
  },
  {
   "cell_type": "markdown",
   "metadata": {},
   "source": [
    "## A/A Testing: Invariant Matric"
   ]
  },
  {
   "cell_type": "markdown",
   "metadata": {},
   "source": [
    "A prerequisite for A/B Testing is to insure that the groups included in the hypothesis test are in terms of numbers equally high.<br>\n",
    "In case of significantly differering group size, we can't proceed to A/B Testing because the results could be biased.\n",
    "\n",
    "So we're applying A/A Testing under the following hypthesis:\n",
    "\n",
    "$H_0: cust_{ctrl} = cust_{treat} $ <br>\n",
    "$H_1: cust_{ctrl} \\neq cust_{treat} $ <br>\n",
    "$ p-val$ $assumption $: 0.5"
   ]
  },
  {
   "cell_type": "code",
   "execution_count": 29,
   "metadata": {},
   "outputs": [],
   "source": [
    "n_obs = (df[\"Control Cookies\"] + df[\"Experiment Cookies\"]).sum()\n",
    "n_control = df[\"Control Cookies\"].sum()"
   ]
  },
  {
   "cell_type": "code",
   "execution_count": 10,
   "metadata": {},
   "outputs": [],
   "source": [
    "p = 0.5\n",
    "sd = np.sqrt(p*(1-p) * n_obs)\n",
    "z_score = ((n_control + 0.5) - p * n_obs) / sd\n",
    "p_values = 2 * stats.norm.cdf(z_score)"
   ]
  },
  {
   "cell_type": "code",
   "execution_count": 11,
   "metadata": {},
   "outputs": [
    {
     "data": {
      "text/plain": [
       "np.float64(0.1074929405013041)"
      ]
     },
     "execution_count": 11,
     "metadata": {},
     "output_type": "execute_result"
    }
   ],
   "source": [
    "p_values"
   ]
  },
  {
   "cell_type": "markdown",
   "metadata": {},
   "source": [
    "Looking at the test result, the H0 can't be rejected even on a $\\alpha$=10% level. <br>\n",
    "Hence, there is a high probability the number of visitors of the homepage in the treatment group is equally high as the number of visitors of the homepage in the control group."
   ]
  },
  {
   "cell_type": "markdown",
   "metadata": {},
   "source": [
    "## A/B Testing: the evaluation metric"
   ]
  },
  {
   "cell_type": "markdown",
   "metadata": {},
   "source": [
    "The goal is to verify if the structure of the homepage has a significant effect on the:\n",
    "* Download Rate and\n",
    "* the purchasing rate"
   ]
  },
  {
   "cell_type": "markdown",
   "metadata": {},
   "source": [
    "### Download Rate"
   ]
  },
  {
   "cell_type": "markdown",
   "metadata": {},
   "source": [
    "Our goal is to check if the download rate is significantly higher with the newly structured home page than with the old structure \n",
    "\n",
    "Mathematically spoken:\n",
    "\n",
    "$H_0: \\, p_{treat} - p_{control} = 0$ <br>\n",
    "$H_1: \\, p_{treat} - p_{control} > 0$"
   ]
  },
  {
   "cell_type": "code",
   "execution_count": 12,
   "metadata": {},
   "outputs": [],
   "source": [
    "df_test = df.copy() "
   ]
  },
  {
   "cell_type": "markdown",
   "metadata": {},
   "source": [
    "> Calculate the relevant metrics to do A/B Testing"
   ]
  },
  {
   "cell_type": "code",
   "execution_count": 15,
   "metadata": {},
   "outputs": [
    {
     "name": "stdout",
     "output_type": "stream",
     "text": [
      "Control obs: 46851\n",
      "Exper. obs: 47346\n",
      "Total obs: 94197\n"
     ]
    }
   ],
   "source": [
    "n_control_cnt = df_test[\"Control Cookies\"].sum()\n",
    "n_exper_cnt = df_test[\"Experiment Cookies\"].sum()\n",
    "n_obs_cnt = n_control_cnt + n_exper_cnt\n",
    "\n",
    "print(f\"Control obs: {n_control_cnt}\")\n",
    "print(f\"Exper. obs: {n_exper_cnt}\")\n",
    "print(f\"Total obs: {n_obs_cnt}\")"
   ]
  },
  {
   "cell_type": "code",
   "execution_count": 16,
   "metadata": {},
   "outputs": [
    {
     "name": "stdout",
     "output_type": "stream",
     "text": [
      "Control downloads: 7554\n",
      "Exper. downloads: 8548\n",
      "Total downloads: 16102\n"
     ]
    }
   ],
   "source": [
    "n_control_downloads = df['Control Downloads'].sum()\n",
    "n_experiment_downloads = df['Experiment Downloads'].sum()\n",
    "n_total_downloads = n_control_downloads + n_experiment_downloads\n",
    "\n",
    "print(f\"Control downloads: {n_control_downloads}\")\n",
    "print(f\"Exper. downloads: {n_experiment_downloads}\")\n",
    "print(f\"Total downloads: {n_total_downloads}\")"
   ]
  },
  {
   "cell_type": "code",
   "execution_count": 17,
   "metadata": {},
   "outputs": [
    {
     "name": "stdout",
     "output_type": "stream",
     "text": [
      "Control downloads rate: 0.16123455209067042\n",
      "Exper. downloads rate: 0.180543234908968\n",
      "Total downloads rate: 0.1709396265273841\n"
     ]
    }
   ],
   "source": [
    "p_control_downloads = n_control_downloads / n_control_cnt\n",
    "p_exper_downloads = n_experiment_downloads / n_exper_cnt\n",
    "p_total_downloads = (n_control_downloads + n_experiment_downloads) / (n_control_cnt + n_exper_cnt)\n",
    "\n",
    "print(f\"Control downloads rate: {p_control_downloads}\")\n",
    "print(f\"Exper. downloads rate: {p_exper_downloads}\")\n",
    "print(f\"Total downloads rate: {p_total_downloads}\")"
   ]
  },
  {
   "cell_type": "markdown",
   "metadata": {},
   "source": [
    "> Calculate the test-statistic and the p-value"
   ]
  },
  {
   "cell_type": "code",
   "execution_count": 18,
   "metadata": {},
   "outputs": [
    {
     "name": "stdout",
     "output_type": "stream",
     "text": [
      "Standard Error: 0.0024531940948456393\n",
      "Z-Score: 7.870833726066236\n",
      "p value:  1.7763568394002505e-15\n"
     ]
    }
   ],
   "source": [
    "#calc SE\n",
    "se_p = np.sqrt(p_total_downloads * (1-p_total_downloads) * (1 / n_control_cnt + 1 / n_exper_cnt))\n",
    "\n",
    "#calc z score\n",
    "z_score = (p_exper_downloads - p_control_downloads) / se_p\n",
    "\n",
    "print(f\"Standard Error: {se_p}\")\n",
    "print(f\"Z-Score: {z_score}\")\n",
    "print('p value: ', 1 - stats.norm.cdf(z_score))"
   ]
  },
  {
   "cell_type": "markdown",
   "metadata": {},
   "source": [
    "> Check result via statsmodels"
   ]
  },
  {
   "cell_type": "code",
   "execution_count": 32,
   "metadata": {},
   "outputs": [
    {
     "data": {
      "text/plain": [
       "(np.float64(7.870833726066236), np.float64(1.7614279636728079e-15))"
      ]
     },
     "execution_count": 32,
     "metadata": {},
     "output_type": "execute_result"
    }
   ],
   "source": [
    "d0 = 0  # assume there is no difference between two groups\n",
    "count = [n_experiment_downloads, n_control_downloads]\n",
    "nobs = [n_exper_cnt, n_control_cnt]\n",
    "\n",
    "zstat, pval = proptests.proportions_ztest(\n",
    "    count,\n",
    "    nobs,\n",
    "    value=d0,  # null hypothesis\n",
    "    alternative=\"larger\",\n",
    "    prop_var=False,  # pooled\n",
    ")\n",
    "zstat, pval"
   ]
  },
  {
   "cell_type": "markdown",
   "metadata": {},
   "source": [
    "Looking at the tests, we can reject the H0 and so assume that the download rate is significantly higher with the new structure as with the old one."
   ]
  },
  {
   "cell_type": "markdown",
   "metadata": {},
   "source": [
    "### Licence"
   ]
  },
  {
   "cell_type": "markdown",
   "metadata": {},
   "source": [
    "Our goal is to check if the licence purchase rate is significantly higher with the newly structured home page than with the old structure \n",
    "\n",
    "Mathematically spoken:\n",
    "\n",
    "$H_0: \\, p_{treat} - p_{control} = 0$ <br>\n",
    "$H_1: \\, p_{treat} - p_{control} > 0$"
   ]
  },
  {
   "cell_type": "code",
   "execution_count": 19,
   "metadata": {},
   "outputs": [
    {
     "name": "stdout",
     "output_type": "stream",
     "text": [
      "n_control: 33758\n",
      "n_experiment: 34338\n",
      "n_total: 68096\n"
     ]
    }
   ],
   "source": [
    "df_licences = df[df[\"Day\"]<22]\n",
    "\n",
    "n_control = df_licences[\"Control Cookies\"].sum()\n",
    "n_exper = df_licences[\"Experiment Cookies\"].sum()\n",
    "\n",
    "n_total = n_control + n_exper\n",
    "\n",
    "print(f\"n_control: {n_control}\")\n",
    "print(f\"n_experiment: {n_exper}\")\n",
    "print(f\"n_total: {n_total}\")"
   ]
  },
  {
   "cell_type": "markdown",
   "metadata": {},
   "source": [
    "> Calculate the relevant metrics to do A/B Testing"
   ]
  },
  {
   "cell_type": "code",
   "execution_count": 20,
   "metadata": {},
   "outputs": [
    {
     "name": "stdout",
     "output_type": "stream",
     "text": [
      "Control Licences: 443\n",
      "Exper. Licences: 456\n",
      "Total Licences: 899\n"
     ]
    }
   ],
   "source": [
    "n_control_licences = df_licences['Control Licenses'].sum()\n",
    "n_experiment_licences = df_licences['Experiment Licenses'].sum()\n",
    "n_total_licences = n_control_licences + n_experiment_licences\n",
    "\n",
    "print(f\"Control Licences: {n_control_licences}\")\n",
    "print(f\"Exper. Licences: {n_experiment_licences}\")\n",
    "print(f\"Total Licences: {n_total_licences}\")"
   ]
  },
  {
   "cell_type": "code",
   "execution_count": 35,
   "metadata": {},
   "outputs": [
    {
     "name": "stdout",
     "output_type": "stream",
     "text": [
      "Control licence purchase rate: 0.00945550788670466\n",
      "Exper. licence purchase rate: 0.013279748383714835\n",
      "Total licence purchase rate: 0.011072928598701794\n"
     ]
    }
   ],
   "source": [
    "p_control_licences = n_control_licences / n_control\n",
    "p_exper_licences = n_experiment_licences / n_exper\n",
    "p_total_licences = (n_control_licences + n_experiment_licences) / (n_control + n_exper)\n",
    "\n",
    "print(f\"Control licence purchase rate: {p_control_licences}\")\n",
    "print(f\"Exper. licence purchase rate: {p_exper_licences}\")\n",
    "print(f\"Total licence purchase rate: {p_total_licences}\")"
   ]
  },
  {
   "cell_type": "markdown",
   "metadata": {},
   "source": [
    "> Calculate the test-statistic and the p-value"
   ]
  },
  {
   "cell_type": "code",
   "execution_count": 33,
   "metadata": {},
   "outputs": [
    {
     "name": "stdout",
     "output_type": "stream",
     "text": [
      "Standard Error: 0.0007437905264923841\n",
      "Z-Score: 0.21099092481457538\n",
      "p value:  0.41644717645292517\n"
     ]
    }
   ],
   "source": [
    "#calc SE\n",
    "se_p = np.sqrt(p_total_licences * (1-p_total_licences) * (1 / n_control_cnt + 1 / n_exper_cnt))\n",
    "\n",
    "#calc z score\n",
    "z_score = (p_exper_licences - p_control_licences) / se_p\n",
    "\n",
    "print(f\"Standard Error: {se_p}\")\n",
    "print(f\"Z-Score: {z_score}\")\n",
    "print('p value: ', 1 - stats.norm.cdf(z_score))"
   ]
  },
  {
   "cell_type": "markdown",
   "metadata": {},
   "source": [
    "> Check result via statsmodels"
   ]
  },
  {
   "cell_type": "code",
   "execution_count": 34,
   "metadata": {},
   "outputs": [
    {
     "name": "stdout",
     "output_type": "stream",
     "text": [
      "z-score: 0.1935439350275868\n",
      "p-value from z-score: 0.4232665006434394\n"
     ]
    }
   ],
   "source": [
    "se_p = np.sqrt(p_total_licences * (1-p_total_licences) * (1/n_control + 1/n_exper))\n",
    "z_score = (p_exper_licences - p_control_licences) / se_p\n",
    "\n",
    "p_val = 1- stats.norm.cdf(z_score)\n",
    "\n",
    "print(\"z-score: {z}\".format(z=z_score))\n",
    "print(\"p-value from z-score: {p}\".format(p=p_val))"
   ]
  },
  {
   "cell_type": "markdown",
   "metadata": {},
   "source": [
    "Looking at the tests, we cannot reject the H0 and so we have to assume that the licence purchase rate is not significantly different between the new structure and the old one."
   ]
  }
 ],
 "metadata": {
  "kernelspec": {
   "display_name": ".venv",
   "language": "python",
   "name": "python3"
  },
  "language_info": {
   "codemirror_mode": {
    "name": "ipython",
    "version": 3
   },
   "file_extension": ".py",
   "mimetype": "text/x-python",
   "name": "python",
   "nbconvert_exporter": "python",
   "pygments_lexer": "ipython3",
   "version": "3.12.2"
  }
 },
 "nbformat": 4,
 "nbformat_minor": 2
}
