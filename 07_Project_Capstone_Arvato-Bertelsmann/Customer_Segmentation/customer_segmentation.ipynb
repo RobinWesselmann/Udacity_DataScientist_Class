{
 "cells": [
  {
   "cell_type": "markdown",
   "metadata": {},
   "source": [
    "# Customer Segmentation of Arvato-Bertelsmann customers"
   ]
  },
  {
   "cell_type": "markdown",
   "metadata": {},
   "source": [
    "## Summary "
   ]
  },
  {
   "cell_type": "markdown",
   "metadata": {},
   "source": [
    "lore ipsum"
   ]
  },
  {
   "cell_type": "markdown",
   "metadata": {},
   "source": [
    "## I. Introduction"
   ]
  },
  {
   "cell_type": "markdown",
   "metadata": {},
   "source": [
    "The Arvato-Group is one of total 8 business units in the Bertelsmann Group which is a worldwide operating service company head-quarted in Germany.<br>\n",
    "The main operating field of Avarto are logistics- and supply chain services and solutions, financial services as well as the operation of IT Systems. Concerning the general figures to get a grasp of the company, the company employs a staff around 77.342 persons (2020) and generates a sales volume of 5.56 Mrd. EUR per a (2024).\n",
    "\n",
    "The present project can be localized in the financial services branch of Arvato (Arvato Financial Solutions).<br><br>\n",
    "<span style=\"color: green;\">**One client of Arvato Financial Solutions, a Mail-Order Company selling organic products, wants to be advised concerning a more efficient way to acquire new clients.<br>\n",
    "In essence, the company wants their acquisition marketing campaings instead of reaching out to everyone (costly), target more precisely those persons which show the highest probability to turn into new customers.**</span>\n",
    "<br><br>\n",
    "<span style=\"text-decoration: underline;\">The project spans two main tasks:</span>\n",
    "1) Customer Segmentation: An Analysis of the existing customer database dataset is carried out and on this basis a general recommandation of which people in Germany are most likely to be new customers of the company is generated. <br><br>\n",
    "2) Modelling Campaign-Responses: Using the results of 1) to build a machine learning model that predicts whether or not an individual will respond to the respective campaign.\n",
    "\n",
    "This notebook focuses on the first main task.\n",
    "\n",
    "\n"
   ]
  },
  {
   "cell_type": "markdown",
   "metadata": {},
   "source": [
    "## II. Methodology"
   ]
  },
  {
   "cell_type": "markdown",
   "metadata": {},
   "source": [
    "* General description how we'll proceed\n",
    "* Short description of the datasets at hand\n",
    "* Exploratory Analysis of the two datasets\n",
    "* Short plan what needs to be done to clean the dataset for further use\n",
    "* PCA of bigger ds\n",
    "* PCA application on customer ds\n",
    "* Clustering "
   ]
  },
  {
   "cell_type": "markdown",
   "metadata": {},
   "source": [
    "#### General description of the methodology"
   ]
  },
  {
   "cell_type": "code",
   "execution_count": null,
   "metadata": {},
   "outputs": [],
   "source": []
  },
  {
   "cell_type": "code",
   "execution_count": null,
   "metadata": {},
   "outputs": [],
   "source": []
  },
  {
   "cell_type": "markdown",
   "metadata": {},
   "source": [
    "#### Import relevant libraries and load the data"
   ]
  },
  {
   "cell_type": "code",
   "execution_count": 2,
   "metadata": {},
   "outputs": [],
   "source": [
    "#Import relevant libraries\n",
    "import numpy as np\n",
    "import pandas as pd\n",
    "pd.set_option(\"display.max_columns\", None)\n",
    "pd.set_option(\"display.max_rows\", 999)\n",
    "pd.set_option('display.max_colwidth', None)\n",
    "\n",
    "import os\n",
    "\n",
    "import matplotlib.pyplot as plt\n",
    "import seaborn as sns\n",
    "\n",
    "%matplotlib inline"
   ]
  },
  {
   "cell_type": "code",
   "execution_count": 9,
   "metadata": {},
   "outputs": [],
   "source": [
    "#load the relevant data\n",
    "root_path = os.path.dirname(os.getcwd())\n",
    "\n",
    "\n",
    "azdias = pd.read_csv(rf'{root_path}\\data\\Udacity_AZDIAS_052018.csv', sep=';', low_memory=False)\n",
    "customers = pd.read_csv(rf'{root_path}\\data\\Udacity_CUSTOMERS_052018.csv', sep=';', low_memory=False)"
   ]
  },
  {
   "cell_type": "markdown",
   "metadata": {},
   "source": [
    "#### Description of the datasets at hand"
   ]
  },
  {
   "cell_type": "markdown",
   "metadata": {},
   "source": [
    "There are four data files associated with this project:\n",
    "\n",
    "1) `Udacity_AZDIAS_052018.csv`: Demographics data for the general population of Germany; 891 211 persons (rows) x 366 features (columns).\n",
    "2) `Udacity_CUSTOMERS_052018.csv`: Demographics data for customers of a mail-order company; 191 652 persons (rows) x 369 features (columns).\n",
    "3) `Udacity_MAILOUT_052018_TRAIN.csv`: Demographics data for individuals who were targets of a marketing campaign; 42 982 persons (rows) x 367 (columns).\n",
    "4) `Udacity_MAILOUT_052018_TEST.csv`: Demographics data for individuals who were targets of a marketing campaign; 42 833 persons (rows) x 366 (columns).\n",
    "\n",
    "#############<br>\n",
    "Whereas the first two files are rather relevant for the customer segmentation (first main task), the later two dataset are more relevant for the second main task (Modelling Campaign-Responses).<br>\n",
    "\n",
    "The azdias-dataset and the customers-dataset show only a small difference concerning the attributes / columns"
   ]
  },
  {
   "cell_type": "code",
   "execution_count": 14,
   "metadata": {},
   "outputs": [
    {
     "data": {
      "text/plain": [
       "array(['PRODUCT_GROUP', 'CUSTOMER_GROUP', 'ONLINE_PURCHASE'], dtype=object)"
      ]
     },
     "execution_count": 14,
     "metadata": {},
     "output_type": "execute_result"
    }
   ],
   "source": [
    "np.setdiff1d(\n",
    "    np.array(customers.columns),\n",
    "    np.array(azdias.columns),\n",
    "    assume_unique=True\n",
    ")"
   ]
  },
  {
   "cell_type": "markdown",
   "metadata": {},
   "source": [
    "Hence, the description of the columns of the datasets at hand can be combined due to the large amount of common columns.<br>\n",
    "\n",
    "In general, the datasets 1. and 2. contain data where one record describes one individual person over a large amount of attributes-\n",
    "\n",
    "Arvato provided two excel files containing column-descriptions for the data relevant for the project. <br><br>\n",
    "\n",
    "The columns can be distinguished on an \"information level\" into: \n",
    "* <span style=\"text-decoration: underline;\"> **> Person:**</span> data describing the indvidual at hand e.g. age, sex, financial topology, nationality etc.<br><br>\n",
    "* <span style=\"text-decoration: underline;\"> **> Household:**</span> data describing the circumstances within the household the indivual lives in e.g. no of persons in household, academic titles in household, children in household, transaction activity in Household etc.<br><br>\n",
    "* <span style=\"text-decoration: underline;\"> **> Building:**</span> data describing the building the household is localized e.g. number of households in the building, type of building, neighbourhood-area indicator etc.<br><br>\n",
    "* <span style=\"text-decoration: underline;\"> **> Microcell (RR4_ID):**</span> data describing the individuals by the CAMEO consumer classifications system. <br><br>\n",
    "* <span style=\"text-decoration: underline;\"> **> Microcell (RR3_ID):**</span> data describing"
   ]
  },
  {
   "cell_type": "code",
   "execution_count": null,
   "metadata": {},
   "outputs": [],
   "source": []
  },
  {
   "cell_type": "code",
   "execution_count": 13,
   "metadata": {},
   "outputs": [
    {
     "data": {
      "text/plain": [
       "['LNR',\n",
       " 'AGER_TYP',\n",
       " 'AKT_DAT_KL',\n",
       " 'ALTER_HH',\n",
       " 'ALTER_KIND1',\n",
       " 'ALTER_KIND2',\n",
       " 'ALTER_KIND3',\n",
       " 'ALTER_KIND4',\n",
       " 'ALTERSKATEGORIE_FEIN',\n",
       " 'ANZ_HAUSHALTE_AKTIV',\n",
       " 'ANZ_HH_TITEL',\n",
       " 'ANZ_KINDER',\n",
       " 'ANZ_PERSONEN',\n",
       " 'ANZ_STATISTISCHE_HAUSHALTE',\n",
       " 'ANZ_TITEL',\n",
       " 'ARBEIT',\n",
       " 'BALLRAUM',\n",
       " 'CAMEO_DEU_2015',\n",
       " 'CAMEO_DEUG_2015',\n",
       " 'CAMEO_INTL_2015',\n",
       " 'CJT_GESAMTTYP',\n",
       " 'CJT_KATALOGNUTZER',\n",
       " 'CJT_TYP_1',\n",
       " 'CJT_TYP_2',\n",
       " 'CJT_TYP_3',\n",
       " 'CJT_TYP_4',\n",
       " 'CJT_TYP_5',\n",
       " 'CJT_TYP_6',\n",
       " 'D19_BANKEN_ANZ_12',\n",
       " 'D19_BANKEN_ANZ_24',\n",
       " 'D19_BANKEN_DATUM',\n",
       " 'D19_BANKEN_DIREKT',\n",
       " 'D19_BANKEN_GROSS',\n",
       " 'D19_BANKEN_LOKAL',\n",
       " 'D19_BANKEN_OFFLINE_DATUM',\n",
       " 'D19_BANKEN_ONLINE_DATUM',\n",
       " 'D19_BANKEN_ONLINE_QUOTE_12',\n",
       " 'D19_BANKEN_REST',\n",
       " 'D19_BEKLEIDUNG_GEH',\n",
       " 'D19_BEKLEIDUNG_REST',\n",
       " 'D19_BILDUNG',\n",
       " 'D19_BIO_OEKO',\n",
       " 'D19_BUCH_CD',\n",
       " 'D19_DIGIT_SERV',\n",
       " 'D19_DROGERIEARTIKEL',\n",
       " 'D19_ENERGIE',\n",
       " 'D19_FREIZEIT',\n",
       " 'D19_GARTEN',\n",
       " 'D19_GESAMT_ANZ_12',\n",
       " 'D19_GESAMT_ANZ_24',\n",
       " 'D19_GESAMT_DATUM',\n",
       " 'D19_GESAMT_OFFLINE_DATUM',\n",
       " 'D19_GESAMT_ONLINE_DATUM',\n",
       " 'D19_GESAMT_ONLINE_QUOTE_12',\n",
       " 'D19_HANDWERK',\n",
       " 'D19_HAUS_DEKO',\n",
       " 'D19_KINDERARTIKEL',\n",
       " 'D19_KONSUMTYP',\n",
       " 'D19_KONSUMTYP_MAX',\n",
       " 'D19_KOSMETIK',\n",
       " 'D19_LEBENSMITTEL',\n",
       " 'D19_LETZTER_KAUF_BRANCHE',\n",
       " 'D19_LOTTO',\n",
       " 'D19_NAHRUNGSERGAENZUNG',\n",
       " 'D19_RATGEBER',\n",
       " 'D19_REISEN',\n",
       " 'D19_SAMMELARTIKEL',\n",
       " 'D19_SCHUHE',\n",
       " 'D19_SONSTIGE',\n",
       " 'D19_SOZIALES',\n",
       " 'D19_TECHNIK',\n",
       " 'D19_TELKO_ANZ_12',\n",
       " 'D19_TELKO_ANZ_24',\n",
       " 'D19_TELKO_DATUM',\n",
       " 'D19_TELKO_MOBILE',\n",
       " 'D19_TELKO_OFFLINE_DATUM',\n",
       " 'D19_TELKO_ONLINE_DATUM',\n",
       " 'D19_TELKO_ONLINE_QUOTE_12',\n",
       " 'D19_TELKO_REST',\n",
       " 'D19_TIERARTIKEL',\n",
       " 'D19_VERSAND_ANZ_12',\n",
       " 'D19_VERSAND_ANZ_24',\n",
       " 'D19_VERSAND_DATUM',\n",
       " 'D19_VERSAND_OFFLINE_DATUM',\n",
       " 'D19_VERSAND_ONLINE_DATUM',\n",
       " 'D19_VERSAND_ONLINE_QUOTE_12',\n",
       " 'D19_VERSAND_REST',\n",
       " 'D19_VERSI_ANZ_12',\n",
       " 'D19_VERSI_ANZ_24',\n",
       " 'D19_VERSI_DATUM',\n",
       " 'D19_VERSI_OFFLINE_DATUM',\n",
       " 'D19_VERSI_ONLINE_DATUM',\n",
       " 'D19_VERSI_ONLINE_QUOTE_12',\n",
       " 'D19_VERSICHERUNGEN',\n",
       " 'D19_VOLLSORTIMENT',\n",
       " 'D19_WEIN_FEINKOST',\n",
       " 'DSL_FLAG',\n",
       " 'EINGEFUEGT_AM',\n",
       " 'EINGEZOGENAM_HH_JAHR',\n",
       " 'EWDICHTE',\n",
       " 'EXTSEL992',\n",
       " 'FINANZ_ANLEGER',\n",
       " 'FINANZ_HAUSBAUER',\n",
       " 'FINANZ_MINIMALIST',\n",
       " 'FINANZ_SPARER',\n",
       " 'FINANZ_UNAUFFAELLIGER',\n",
       " 'FINANZ_VORSORGER',\n",
       " 'FINANZTYP',\n",
       " 'FIRMENDICHTE',\n",
       " 'GEBAEUDETYP',\n",
       " 'GEBAEUDETYP_RASTER',\n",
       " 'GEBURTSJAHR',\n",
       " 'GEMEINDETYP',\n",
       " 'GFK_URLAUBERTYP',\n",
       " 'GREEN_AVANTGARDE',\n",
       " 'HEALTH_TYP',\n",
       " 'HH_DELTA_FLAG',\n",
       " 'HH_EINKOMMEN_SCORE',\n",
       " 'INNENSTADT',\n",
       " 'KBA05_ALTER1',\n",
       " 'KBA05_ALTER2',\n",
       " 'KBA05_ALTER3',\n",
       " 'KBA05_ALTER4',\n",
       " 'KBA05_ANHANG',\n",
       " 'KBA05_ANTG1',\n",
       " 'KBA05_ANTG2',\n",
       " 'KBA05_ANTG3',\n",
       " 'KBA05_ANTG4',\n",
       " 'KBA05_AUTOQUOT',\n",
       " 'KBA05_BAUMAX',\n",
       " 'KBA05_CCM1',\n",
       " 'KBA05_CCM2',\n",
       " 'KBA05_CCM3',\n",
       " 'KBA05_CCM4',\n",
       " 'KBA05_DIESEL',\n",
       " 'KBA05_FRAU',\n",
       " 'KBA05_GBZ',\n",
       " 'KBA05_HERST1',\n",
       " 'KBA05_HERST2',\n",
       " 'KBA05_HERST3',\n",
       " 'KBA05_HERST4',\n",
       " 'KBA05_HERST5',\n",
       " 'KBA05_HERSTTEMP',\n",
       " 'KBA05_KRSAQUOT',\n",
       " 'KBA05_KRSHERST1',\n",
       " 'KBA05_KRSHERST2',\n",
       " 'KBA05_KRSHERST3',\n",
       " 'KBA05_KRSKLEIN',\n",
       " 'KBA05_KRSOBER',\n",
       " 'KBA05_KRSVAN',\n",
       " 'KBA05_KRSZUL',\n",
       " 'KBA05_KW1',\n",
       " 'KBA05_KW2',\n",
       " 'KBA05_KW3',\n",
       " 'KBA05_MAXAH',\n",
       " 'KBA05_MAXBJ',\n",
       " 'KBA05_MAXHERST',\n",
       " 'KBA05_MAXSEG',\n",
       " 'KBA05_MAXVORB',\n",
       " 'KBA05_MOD1',\n",
       " 'KBA05_MOD2',\n",
       " 'KBA05_MOD3',\n",
       " 'KBA05_MOD4',\n",
       " 'KBA05_MOD8',\n",
       " 'KBA05_MODTEMP',\n",
       " 'KBA05_MOTOR',\n",
       " 'KBA05_MOTRAD',\n",
       " 'KBA05_SEG1',\n",
       " 'KBA05_SEG10',\n",
       " 'KBA05_SEG2',\n",
       " 'KBA05_SEG3',\n",
       " 'KBA05_SEG4',\n",
       " 'KBA05_SEG5',\n",
       " 'KBA05_SEG6',\n",
       " 'KBA05_SEG7',\n",
       " 'KBA05_SEG8',\n",
       " 'KBA05_SEG9',\n",
       " 'KBA05_VORB0',\n",
       " 'KBA05_VORB1',\n",
       " 'KBA05_VORB2',\n",
       " 'KBA05_ZUL1',\n",
       " 'KBA05_ZUL2',\n",
       " 'KBA05_ZUL3',\n",
       " 'KBA05_ZUL4',\n",
       " 'KBA13_ALTERHALTER_30',\n",
       " 'KBA13_ALTERHALTER_45',\n",
       " 'KBA13_ALTERHALTER_60',\n",
       " 'KBA13_ALTERHALTER_61',\n",
       " 'KBA13_ANTG1',\n",
       " 'KBA13_ANTG2',\n",
       " 'KBA13_ANTG3',\n",
       " 'KBA13_ANTG4',\n",
       " 'KBA13_ANZAHL_PKW',\n",
       " 'KBA13_AUDI',\n",
       " 'KBA13_AUTOQUOTE',\n",
       " 'KBA13_BAUMAX',\n",
       " 'KBA13_BJ_1999',\n",
       " 'KBA13_BJ_2000',\n",
       " 'KBA13_BJ_2004',\n",
       " 'KBA13_BJ_2006',\n",
       " 'KBA13_BJ_2008',\n",
       " 'KBA13_BJ_2009',\n",
       " 'KBA13_BMW',\n",
       " 'KBA13_CCM_0_1400',\n",
       " 'KBA13_CCM_1000',\n",
       " 'KBA13_CCM_1200',\n",
       " 'KBA13_CCM_1400',\n",
       " 'KBA13_CCM_1401_2500',\n",
       " 'KBA13_CCM_1500',\n",
       " 'KBA13_CCM_1600',\n",
       " 'KBA13_CCM_1800',\n",
       " 'KBA13_CCM_2000',\n",
       " 'KBA13_CCM_2500',\n",
       " 'KBA13_CCM_2501',\n",
       " 'KBA13_CCM_3000',\n",
       " 'KBA13_CCM_3001',\n",
       " 'KBA13_FAB_ASIEN',\n",
       " 'KBA13_FAB_SONSTIGE',\n",
       " 'KBA13_FIAT',\n",
       " 'KBA13_FORD',\n",
       " 'KBA13_GBZ',\n",
       " 'KBA13_HALTER_20',\n",
       " 'KBA13_HALTER_25',\n",
       " 'KBA13_HALTER_30',\n",
       " 'KBA13_HALTER_35',\n",
       " 'KBA13_HALTER_40',\n",
       " 'KBA13_HALTER_45',\n",
       " 'KBA13_HALTER_50',\n",
       " 'KBA13_HALTER_55',\n",
       " 'KBA13_HALTER_60',\n",
       " 'KBA13_HALTER_65',\n",
       " 'KBA13_HALTER_66',\n",
       " 'KBA13_HERST_ASIEN',\n",
       " 'KBA13_HERST_AUDI_VW',\n",
       " 'KBA13_HERST_BMW_BENZ',\n",
       " 'KBA13_HERST_EUROPA',\n",
       " 'KBA13_HERST_FORD_OPEL',\n",
       " 'KBA13_HERST_SONST',\n",
       " 'KBA13_HHZ',\n",
       " 'KBA13_KMH_0_140',\n",
       " 'KBA13_KMH_110',\n",
       " 'KBA13_KMH_140',\n",
       " 'KBA13_KMH_140_210',\n",
       " 'KBA13_KMH_180',\n",
       " 'KBA13_KMH_210',\n",
       " 'KBA13_KMH_211',\n",
       " 'KBA13_KMH_250',\n",
       " 'KBA13_KMH_251',\n",
       " 'KBA13_KRSAQUOT',\n",
       " 'KBA13_KRSHERST_AUDI_VW',\n",
       " 'KBA13_KRSHERST_BMW_BENZ',\n",
       " 'KBA13_KRSHERST_FORD_OPEL',\n",
       " 'KBA13_KRSSEG_KLEIN',\n",
       " 'KBA13_KRSSEG_OBER',\n",
       " 'KBA13_KRSSEG_VAN',\n",
       " 'KBA13_KRSZUL_NEU',\n",
       " 'KBA13_KW_0_60',\n",
       " 'KBA13_KW_110',\n",
       " 'KBA13_KW_120',\n",
       " 'KBA13_KW_121',\n",
       " 'KBA13_KW_30',\n",
       " 'KBA13_KW_40',\n",
       " 'KBA13_KW_50',\n",
       " 'KBA13_KW_60',\n",
       " 'KBA13_KW_61_120',\n",
       " 'KBA13_KW_70',\n",
       " 'KBA13_KW_80',\n",
       " 'KBA13_KW_90',\n",
       " 'KBA13_MAZDA',\n",
       " 'KBA13_MERCEDES',\n",
       " 'KBA13_MOTOR',\n",
       " 'KBA13_NISSAN',\n",
       " 'KBA13_OPEL',\n",
       " 'KBA13_PEUGEOT',\n",
       " 'KBA13_RENAULT',\n",
       " 'KBA13_SEG_GELAENDEWAGEN',\n",
       " 'KBA13_SEG_GROSSRAUMVANS',\n",
       " 'KBA13_SEG_KLEINST',\n",
       " 'KBA13_SEG_KLEINWAGEN',\n",
       " 'KBA13_SEG_KOMPAKTKLASSE',\n",
       " 'KBA13_SEG_MINIVANS',\n",
       " 'KBA13_SEG_MINIWAGEN',\n",
       " 'KBA13_SEG_MITTELKLASSE',\n",
       " 'KBA13_SEG_OBEREMITTELKLASSE',\n",
       " 'KBA13_SEG_OBERKLASSE',\n",
       " 'KBA13_SEG_SONSTIGE',\n",
       " 'KBA13_SEG_SPORTWAGEN',\n",
       " 'KBA13_SEG_UTILITIES',\n",
       " 'KBA13_SEG_VAN',\n",
       " 'KBA13_SEG_WOHNMOBILE',\n",
       " 'KBA13_SITZE_4',\n",
       " 'KBA13_SITZE_5',\n",
       " 'KBA13_SITZE_6',\n",
       " 'KBA13_TOYOTA',\n",
       " 'KBA13_VORB_0',\n",
       " 'KBA13_VORB_1',\n",
       " 'KBA13_VORB_1_2',\n",
       " 'KBA13_VORB_2',\n",
       " 'KBA13_VORB_3',\n",
       " 'KBA13_VW',\n",
       " 'KK_KUNDENTYP',\n",
       " 'KKK',\n",
       " 'KOMBIALTER',\n",
       " 'KONSUMNAEHE',\n",
       " 'KONSUMZELLE',\n",
       " 'LP_FAMILIE_FEIN',\n",
       " 'LP_FAMILIE_GROB',\n",
       " 'LP_LEBENSPHASE_FEIN',\n",
       " 'LP_LEBENSPHASE_GROB',\n",
       " 'LP_STATUS_FEIN',\n",
       " 'LP_STATUS_GROB',\n",
       " 'MIN_GEBAEUDEJAHR',\n",
       " 'MOBI_RASTER',\n",
       " 'MOBI_REGIO',\n",
       " 'NATIONALITAET_KZ',\n",
       " 'ONLINE_AFFINITAET',\n",
       " 'ORTSGR_KLS9',\n",
       " 'OST_WEST_KZ',\n",
       " 'PLZ8_ANTG1',\n",
       " 'PLZ8_ANTG2',\n",
       " 'PLZ8_ANTG3',\n",
       " 'PLZ8_ANTG4',\n",
       " 'PLZ8_BAUMAX',\n",
       " 'PLZ8_GBZ',\n",
       " 'PLZ8_HHZ',\n",
       " 'PRAEGENDE_JUGENDJAHRE',\n",
       " 'REGIOTYP',\n",
       " 'RELAT_AB',\n",
       " 'RETOURTYP_BK_S',\n",
       " 'RT_KEIN_ANREIZ',\n",
       " 'RT_SCHNAEPPCHEN',\n",
       " 'RT_UEBERGROESSE',\n",
       " 'SEMIO_DOM',\n",
       " 'SEMIO_ERL',\n",
       " 'SEMIO_FAM',\n",
       " 'SEMIO_KAEM',\n",
       " 'SEMIO_KRIT',\n",
       " 'SEMIO_KULT',\n",
       " 'SEMIO_LUST',\n",
       " 'SEMIO_MAT',\n",
       " 'SEMIO_PFLICHT',\n",
       " 'SEMIO_RAT',\n",
       " 'SEMIO_REL',\n",
       " 'SEMIO_SOZ',\n",
       " 'SEMIO_TRADV',\n",
       " 'SEMIO_VERT',\n",
       " 'SHOPPER_TYP',\n",
       " 'SOHO_KZ',\n",
       " 'STRUKTURTYP',\n",
       " 'TITEL_KZ',\n",
       " 'UMFELD_ALT',\n",
       " 'UMFELD_JUNG',\n",
       " 'UNGLEICHENN_FLAG',\n",
       " 'VERDICHTUNGSRAUM',\n",
       " 'VERS_TYP',\n",
       " 'VHA',\n",
       " 'VHN',\n",
       " 'VK_DHT4A',\n",
       " 'VK_DISTANZ',\n",
       " 'VK_ZG11',\n",
       " 'W_KEIT_KIND_HH',\n",
       " 'WOHNDAUER_2008',\n",
       " 'WOHNLAGE',\n",
       " 'ZABEOTYP',\n",
       " 'ANREDE_KZ',\n",
       " 'ALTERSKATEGORIE_GROB']"
      ]
     },
     "execution_count": 13,
     "metadata": {},
     "output_type": "execute_result"
    }
   ],
   "source": [
    "azdias.columns.tolist()"
   ]
  },
  {
   "cell_type": "code",
   "execution_count": null,
   "metadata": {},
   "outputs": [],
   "source": []
  },
  {
   "cell_type": "code",
   "execution_count": null,
   "metadata": {},
   "outputs": [],
   "source": []
  },
  {
   "cell_type": "markdown",
   "metadata": {},
   "source": [
    "#### Exploratory Data Analysis"
   ]
  },
  {
   "cell_type": "code",
   "execution_count": null,
   "metadata": {},
   "outputs": [],
   "source": []
  },
  {
   "cell_type": "code",
   "execution_count": null,
   "metadata": {},
   "outputs": [],
   "source": []
  },
  {
   "cell_type": "markdown",
   "metadata": {},
   "source": [
    "#### Data Preparation"
   ]
  },
  {
   "cell_type": "code",
   "execution_count": null,
   "metadata": {},
   "outputs": [],
   "source": []
  },
  {
   "cell_type": "code",
   "execution_count": null,
   "metadata": {},
   "outputs": [],
   "source": []
  },
  {
   "cell_type": "markdown",
   "metadata": {},
   "source": [
    "#### Principal Component Analysis"
   ]
  },
  {
   "cell_type": "code",
   "execution_count": null,
   "metadata": {},
   "outputs": [],
   "source": []
  },
  {
   "cell_type": "code",
   "execution_count": null,
   "metadata": {},
   "outputs": [],
   "source": []
  },
  {
   "cell_type": "code",
   "execution_count": null,
   "metadata": {},
   "outputs": [],
   "source": []
  },
  {
   "cell_type": "markdown",
   "metadata": {},
   "source": [
    "#### Clustering"
   ]
  },
  {
   "cell_type": "code",
   "execution_count": null,
   "metadata": {},
   "outputs": [],
   "source": []
  },
  {
   "cell_type": "code",
   "execution_count": null,
   "metadata": {},
   "outputs": [],
   "source": []
  },
  {
   "cell_type": "code",
   "execution_count": null,
   "metadata": {},
   "outputs": [],
   "source": []
  },
  {
   "cell_type": "markdown",
   "metadata": {},
   "source": [
    "## III. Results"
   ]
  },
  {
   "cell_type": "code",
   "execution_count": null,
   "metadata": {},
   "outputs": [],
   "source": []
  },
  {
   "cell_type": "markdown",
   "metadata": {},
   "source": [
    "## IV. Discussion"
   ]
  },
  {
   "cell_type": "code",
   "execution_count": null,
   "metadata": {},
   "outputs": [],
   "source": []
  },
  {
   "cell_type": "code",
   "execution_count": null,
   "metadata": {},
   "outputs": [],
   "source": []
  },
  {
   "cell_type": "code",
   "execution_count": null,
   "metadata": {},
   "outputs": [],
   "source": []
  },
  {
   "cell_type": "code",
   "execution_count": null,
   "metadata": {},
   "outputs": [],
   "source": []
  },
  {
   "cell_type": "code",
   "execution_count": null,
   "metadata": {},
   "outputs": [],
   "source": []
  },
  {
   "cell_type": "code",
   "execution_count": null,
   "metadata": {},
   "outputs": [],
   "source": []
  },
  {
   "cell_type": "code",
   "execution_count": null,
   "metadata": {},
   "outputs": [],
   "source": []
  },
  {
   "cell_type": "markdown",
   "metadata": {},
   "source": [
    "https://de.wikipedia.org/wiki/Arvato"
   ]
  },
  {
   "cell_type": "markdown",
   "metadata": {},
   "source": []
  }
 ],
 "metadata": {
  "kernelspec": {
   "display_name": ".venv",
   "language": "python",
   "name": "python3"
  },
  "language_info": {
   "codemirror_mode": {
    "name": "ipython",
    "version": 3
   },
   "file_extension": ".py",
   "mimetype": "text/x-python",
   "name": "python",
   "nbconvert_exporter": "python",
   "pygments_lexer": "ipython3",
   "version": "3.12.2"
  }
 },
 "nbformat": 4,
 "nbformat_minor": 2
}
